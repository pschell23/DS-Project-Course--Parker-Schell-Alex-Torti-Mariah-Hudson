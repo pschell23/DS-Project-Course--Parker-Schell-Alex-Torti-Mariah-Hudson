{
 "cells": [
  {
   "cell_type": "code",
   "execution_count": 1,
   "metadata": {},
   "outputs": [],
   "source": [
    "# Load libraries\n",
    "import pandas as pd\n",
    "import numpy as np\n",
    "import plotly.express as px\n",
    "import plotly.graph_objects as go\n",
    "from sklearn.cluster import KMeans\n",
    "from sklearn.model_selection import train_test_split\n",
    "from sklearn.tree import DecisionTreeClassifier\n",
    "from sklearn.metrics import confusion_matrix\n",
    "import seaborn as sns\n",
    "from sklearn.metrics import accuracy_score\n",
    "\n",
    "from sklearn.model_selection import GridSearchCV, train_test_split\n",
    "from sklearn.metrics import accuracy_score\n",
    "import matplotlib.pyplot as plt\n",
    "from sklearn.metrics import accuracy_score, classification_report\n",
    "\n",
    "import pandas as pd\n",
    "import nltk\n",
    "from nltk.corpus import stopwords\n",
    "from nltk.tokenize import word_tokenize"
   ]
  },
  {
   "cell_type": "code",
   "execution_count": 2,
   "metadata": {},
   "outputs": [
    {
     "name": "stdout",
     "output_type": "stream",
     "text": [
      "<class 'pandas.core.frame.DataFrame'>\n",
      "RangeIndex: 34886 entries, 0 to 34885\n",
      "Data columns (total 8 columns):\n",
      " #   Column            Non-Null Count  Dtype \n",
      "---  ------            --------------  ----- \n",
      " 0   Release Year      34886 non-null  int64 \n",
      " 1   Title             34886 non-null  object\n",
      " 2   Origin/Ethnicity  34886 non-null  object\n",
      " 3   Director          34886 non-null  object\n",
      " 4   Cast              33464 non-null  object\n",
      " 5   Genre             34886 non-null  object\n",
      " 6   Wiki Page         34886 non-null  object\n",
      " 7   Plot              34886 non-null  object\n",
      "dtypes: int64(1), object(7)\n",
      "memory usage: 2.1+ MB\n"
     ]
    }
   ],
   "source": [
    "movie_data = pd.read_csv(r\"/Users/alexandratorti/DS PROJECT COURSE/Project 2/wiki_movie_plots_deduped.csv\")\n",
    "movie_data.info()"
   ]
  },
  {
   "cell_type": "code",
   "execution_count": 3,
   "metadata": {},
   "outputs": [
    {
     "name": "stdout",
     "output_type": "stream",
     "text": [
      "<class 'pandas.core.frame.DataFrame'>\n",
      "Index: 17377 entries, 0 to 17376\n",
      "Data columns (total 5 columns):\n",
      " #   Column            Non-Null Count  Dtype \n",
      "---  ------            --------------  ----- \n",
      " 0   Release Year      17377 non-null  int64 \n",
      " 1   Title             17377 non-null  object\n",
      " 2   Origin/Ethnicity  17377 non-null  object\n",
      " 3   Genre             17377 non-null  object\n",
      " 4   Plot              17377 non-null  object\n",
      "dtypes: int64(1), object(4)\n",
      "memory usage: 814.5+ KB\n"
     ]
    }
   ],
   "source": [
    "# Select only films that are American in origin\n",
    "us_movies = movie_data[movie_data['Origin/Ethnicity'] == 'American']\n",
    "\n",
    "# Drop unwanted columns (Wiki.Page, Director, Cast)\n",
    "us_movies = us_movies.drop(columns=['Wiki Page', 'Director', 'Cast'])\n",
    "\n",
    "# Print the summary of the resulting DataFrame\n",
    "us_movies.info()\n",
    "# Filter for recent years (e.g., from 1997 onwards)\n",
    "us_movies = us_movies[us_movies['Release Year'] >= 1997]\n"
   ]
  },
  {
   "cell_type": "code",
   "execution_count": 4,
   "metadata": {},
   "outputs": [
    {
     "data": {
      "text/html": [
       "<div>\n",
       "<style scoped>\n",
       "    .dataframe tbody tr th:only-of-type {\n",
       "        vertical-align: middle;\n",
       "    }\n",
       "\n",
       "    .dataframe tbody tr th {\n",
       "        vertical-align: top;\n",
       "    }\n",
       "\n",
       "    .dataframe thead th {\n",
       "        text-align: right;\n",
       "    }\n",
       "</style>\n",
       "<table border=\"1\" class=\"dataframe\">\n",
       "  <thead>\n",
       "    <tr style=\"text-align: right;\">\n",
       "      <th></th>\n",
       "      <th>Release Year</th>\n",
       "      <th>Title</th>\n",
       "      <th>Origin/Ethnicity</th>\n",
       "      <th>Genre</th>\n",
       "      <th>Plot</th>\n",
       "    </tr>\n",
       "  </thead>\n",
       "  <tbody>\n",
       "    <tr>\n",
       "      <th>12889</th>\n",
       "      <td>1997</td>\n",
       "      <td>…First Do No Harm</td>\n",
       "      <td>American</td>\n",
       "      <td>drama</td>\n",
       "      <td>The film tells a story in the life of a Midwes...</td>\n",
       "    </tr>\n",
       "    <tr>\n",
       "      <th>12890</th>\n",
       "      <td>1997</td>\n",
       "      <td>12 Angry Men</td>\n",
       "      <td>American</td>\n",
       "      <td>drama</td>\n",
       "      <td>When the final closing arguments in a murder t...</td>\n",
       "    </tr>\n",
       "    <tr>\n",
       "      <th>12891</th>\n",
       "      <td>1997</td>\n",
       "      <td>8 Heads in a Duffel Bag</td>\n",
       "      <td>American</td>\n",
       "      <td>black comedy</td>\n",
       "      <td>Tommy Spinelli (Joe Pesci) is a wiseguy hired ...</td>\n",
       "    </tr>\n",
       "    <tr>\n",
       "      <th>12892</th>\n",
       "      <td>1997</td>\n",
       "      <td>Aberration</td>\n",
       "      <td>American</td>\n",
       "      <td>horror</td>\n",
       "      <td>An oddball animal biologist/local field resear...</td>\n",
       "    </tr>\n",
       "    <tr>\n",
       "      <th>12893</th>\n",
       "      <td>1997</td>\n",
       "      <td>Absolute Power</td>\n",
       "      <td>American</td>\n",
       "      <td>crime drama</td>\n",
       "      <td>During the course of a burglary, master jewel ...</td>\n",
       "    </tr>\n",
       "  </tbody>\n",
       "</table>\n",
       "</div>"
      ],
      "text/plain": [
       "       Release Year                    Title Origin/Ethnicity         Genre  \\\n",
       "12889          1997        …First Do No Harm         American         drama   \n",
       "12890          1997             12 Angry Men         American         drama   \n",
       "12891          1997  8 Heads in a Duffel Bag         American  black comedy   \n",
       "12892          1997               Aberration         American        horror   \n",
       "12893          1997           Absolute Power         American   crime drama   \n",
       "\n",
       "                                                    Plot  \n",
       "12889  The film tells a story in the life of a Midwes...  \n",
       "12890  When the final closing arguments in a murder t...  \n",
       "12891  Tommy Spinelli (Joe Pesci) is a wiseguy hired ...  \n",
       "12892  An oddball animal biologist/local field resear...  \n",
       "12893  During the course of a burglary, master jewel ...  "
      ]
     },
     "execution_count": 4,
     "metadata": {},
     "output_type": "execute_result"
    }
   ],
   "source": [
    "us_movies.head()"
   ]
  },
  {
   "cell_type": "code",
   "execution_count": 5,
   "metadata": {},
   "outputs": [
    {
     "data": {
      "text/html": [
       "<div>\n",
       "<style scoped>\n",
       "    .dataframe tbody tr th:only-of-type {\n",
       "        vertical-align: middle;\n",
       "    }\n",
       "\n",
       "    .dataframe tbody tr th {\n",
       "        vertical-align: top;\n",
       "    }\n",
       "\n",
       "    .dataframe thead th {\n",
       "        text-align: right;\n",
       "    }\n",
       "</style>\n",
       "<table border=\"1\" class=\"dataframe\">\n",
       "  <thead>\n",
       "    <tr style=\"text-align: right;\">\n",
       "      <th></th>\n",
       "      <th>Plot</th>\n",
       "    </tr>\n",
       "    <tr>\n",
       "      <th>Title</th>\n",
       "      <th></th>\n",
       "    </tr>\n",
       "  </thead>\n",
       "  <tbody>\n",
       "    <tr>\n",
       "      <th>…First Do No Harm</th>\n",
       "      <td>The film tells a story in the life of a Midwes...</td>\n",
       "    </tr>\n",
       "    <tr>\n",
       "      <th>12 Angry Men</th>\n",
       "      <td>When the final closing arguments in a murder t...</td>\n",
       "    </tr>\n",
       "    <tr>\n",
       "      <th>8 Heads in a Duffel Bag</th>\n",
       "      <td>Tommy Spinelli (Joe Pesci) is a wiseguy hired ...</td>\n",
       "    </tr>\n",
       "    <tr>\n",
       "      <th>Aberration</th>\n",
       "      <td>An oddball animal biologist/local field resear...</td>\n",
       "    </tr>\n",
       "    <tr>\n",
       "      <th>Absolute Power</th>\n",
       "      <td>During the course of a burglary, master jewel ...</td>\n",
       "    </tr>\n",
       "  </tbody>\n",
       "</table>\n",
       "</div>"
      ],
      "text/plain": [
       "                                                                      Plot\n",
       "Title                                                                     \n",
       "…First Do No Harm        The film tells a story in the life of a Midwes...\n",
       "12 Angry Men             When the final closing arguments in a murder t...\n",
       "8 Heads in a Duffel Bag  Tommy Spinelli (Joe Pesci) is a wiseguy hired ...\n",
       "Aberration               An oddball animal biologist/local field resear...\n",
       "Absolute Power           During the course of a burglary, master jewel ..."
      ]
     },
     "execution_count": 5,
     "metadata": {},
     "output_type": "execute_result"
    }
   ],
   "source": [
    "# Fetch Title and Plot columns\n",
    "finaldata = us_movies[[\"Title\", \"Plot\"]]\n",
    "# Setting the movie title as index\n",
    "finaldata = finaldata.set_index('Title')\n",
    "finaldata.head()"
   ]
  },
  {
   "cell_type": "code",
   "execution_count": 6,
   "metadata": {},
   "outputs": [
    {
     "name": "stdout",
     "output_type": "stream",
     "text": [
      "<class 'pandas.core.frame.DataFrame'>\n",
      "Index: 4488 entries, …First Do No Harm to Phantom Thread\n",
      "Data columns (total 1 columns):\n",
      " #   Column  Non-Null Count  Dtype \n",
      "---  ------  --------------  ----- \n",
      " 0   Plot    4488 non-null   object\n",
      "dtypes: object(1)\n",
      "memory usage: 70.1+ KB\n",
      "None\n"
     ]
    }
   ],
   "source": [
    "\n",
    "finaldata[\"Plot\"] = finaldata[\"Plot\"].astype(str)\n",
    "print(finaldata.info())"
   ]
  },
  {
   "cell_type": "markdown",
   "metadata": {},
   "source": [
    "Tokenization is the process of breaking down a text into individual words or tokens. The word_tokenize function is employed to split the plot descriptions into a list of words. \n",
    "\n",
    "Stop words are often common across all texts and may not contribute much to the analysis. "
   ]
  },
  {
   "cell_type": "code",
   "execution_count": 7,
   "metadata": {},
   "outputs": [
    {
     "name": "stderr",
     "output_type": "stream",
     "text": [
      "[nltk_data] Downloading package stopwords to\n",
      "[nltk_data]     /Users/alexandratorti/nltk_data...\n",
      "[nltk_data]   Package stopwords is already up-to-date!\n",
      "[nltk_data] Downloading package punkt to\n",
      "[nltk_data]     /Users/alexandratorti/nltk_data...\n",
      "[nltk_data]   Package punkt is already up-to-date!\n"
     ]
    }
   ],
   "source": [
    "#we will need to process data to take out unimportant words\n",
    "# Download stopwords dataset\n",
    "nltk.download('stopwords')\n",
    "nltk.download('punkt')\n",
    "\n",
    "def preprocess_text(text):\n",
    "    stop_words = set(stopwords.words('english'))\n",
    "    tokens = word_tokenize(text)\n",
    "    filtered_tokens = [word.lower() for word in tokens if word.isalnum() and word.lower() not in stop_words]\n",
    "    return ' '.join(filtered_tokens)"
   ]
  },
  {
   "cell_type": "code",
   "execution_count": 8,
   "metadata": {},
   "outputs": [],
   "source": [
    "finaldata['Processed_Plot'] = finaldata['Plot'].apply(preprocess_text)"
   ]
  },
  {
   "cell_type": "code",
   "execution_count": 9,
   "metadata": {},
   "outputs": [
    {
     "name": "stdout",
     "output_type": "stream",
     "text": [
      "['smith', 'johnson', 'williams', 'brown', 'jones', 'miller', 'davis', 'garcia', 'rodriguez', 'wilson', 'martinez', 'anderson', 'taylor', 'thomas', 'hernandez', 'moore', 'martin', 'jackson', 'thompson', 'white', 'lopez', 'lee', 'gonzalez', 'harris', 'clark', 'lewis', 'robinson', 'walker', 'perez', 'hall', 'young', 'allen', 'sanchez', 'wright', 'king', 'scott', 'green', 'baker', 'adams', 'nelson', 'hill', 'ramirez', 'campbell', 'mitchell', 'roberts', 'carter', 'phillips', 'evans', 'turner', 'torres', 'parker', 'collins', 'edwards', 'stewart', 'flores', 'morris', 'nguyen', 'murphy', 'rivera', 'cook', 'rogers', 'morgan', 'peterson', 'cooper', 'reed', 'bailey', 'bell', 'gomez', 'kelly', 'howard', 'ward', 'cox', 'diaz', 'richardson', 'wood', 'watson', 'brooks', 'bennett', 'gray', 'james', 'reyes', 'cruz', 'hughes', 'price', 'myers', 'long', 'foster', 'sanders', 'ross', 'morales', 'powell', 'sullivan', 'russell', 'ortiz', 'jenkins', 'gutierrez', 'perry', 'butler', 'barnes', 'fisher', 'henderson', 'coleman', 'simmons', 'patterson', 'jordan', 'reynolds', 'hamilton', 'graham', 'kim', 'gonzales', 'alexander', 'ramos', 'wallace', 'griffin', 'west', 'cole', 'hayes', 'chavez', 'gibson', 'bryant', 'ellis', 'stevens', 'murray', 'ford', 'marshall', 'owens', 'mcdonald', 'harrison', 'ruiz', 'kennedy', 'wells', 'alvarez', 'woods', 'mendoza', 'castillo', 'olson', 'webb', 'washington', 'tucker', 'freeman', 'burns', 'henry', 'vasquez', 'snyder', 'simpson', 'crawford', 'jimenez', 'porter', 'mason', 'shaw', 'gordon', 'wagner', 'hunter', 'romero', 'hicks', 'dixon', 'hunt', 'palmer', 'robertson', 'black', 'holmes', 'stone', 'meyer', 'boyd', 'mills', 'warren', 'fox', 'rose', 'rice', 'moreno', 'schmidt', 'patel', 'ferguson', 'nichols', 'herrera', 'medina', 'ryan', 'fernandez', 'weaver', 'daniels', 'stephens', 'gardner', 'payne', 'kelley', 'dunn', 'pierce', 'arnold', 'tran', 'spencer', 'peters', 'hawkins', 'grant', 'hansen', 'castro', 'hoffman', 'hart', 'elliott', 'cunningham', 'knight', 'bradley', 'carroll', 'hudson', 'duncan', 'armstrong', 'berry', 'andrews', 'johnston', 'ray', 'lane', 'riley', 'carpenter', 'perkins', 'aguilar', 'silva', 'richards', 'willis', 'matthews', 'chapman', 'lawrence', 'garza', 'vargas', 'watkins', 'wheeler', 'larson', 'carlson', 'harper', 'george', 'greene', 'burke', 'guzman', 'morrison', 'munoz', 'jacobs', 'obrien', 'lawson', 'franklin', 'lynch', 'bishop', 'carr', 'salazar', 'austin', 'mendez', 'gilbert', 'jensen', 'williamson', 'montgomery', 'harvey', 'oliver', 'howell', 'dean', 'hanson', 'weber', 'garrett', 'sims', 'burton', 'fuller', 'soto', 'mccoy', 'welch', 'chen', 'schultz', 'walters', 'reid', 'fields', 'walsh', 'little', 'fowler', 'bowman', 'davidson', 'may', 'day', 'schneider', 'newman', 'brewer', 'lucas', 'holland', 'wong', 'banks', 'santos', 'curtis', 'pearson', 'delgado', 'valdez', 'pena', 'rios', 'douglas', 'sandoval', 'barrett', 'hopkins', 'keller', 'guerrero', 'stanley', 'bates', 'alvarado', 'beck', 'ortega', 'wade', 'estrada', 'contreras', 'barnett', 'caldwell', 'santiago', 'lambert', 'powers', 'chambers', 'nunez', 'craig', 'leonard', 'lowe', 'rhodes', 'byrd', 'gregory', 'shelton', 'frazier', 'becker', 'maldonado', 'fleming', 'vega', 'sutton', 'cohen', 'jennings', 'parks', 'mcdaniel', 'watts', 'barker', 'norris', 'vaughn', 'vazquez', 'holt', 'schwartz', 'steele', 'benson', 'neal', 'dominguez', 'horton', 'terry', 'wolfe', 'hale', 'lyons', 'graves', 'haynes', 'miles', 'park', 'warner', 'padilla', 'bush', 'thornton', 'mccarthy', 'mann', 'zimmerman', 'erickson', 'fletcher', 'mckinney', 'page', 'dawson', 'joseph', 'marquez', 'reeves', 'klein', 'espinoza', 'baldwin', 'moran', 'love', 'robbins', 'higgins', 'ball', 'cortez', 'le', 'griffith', 'bowen', 'sharp', 'cummings', 'ramsey', 'hardy', 'swanson', 'barber', 'acosta', 'luna', 'chandler', 'blair', 'daniel', 'cross', 'simon', 'dennis', 'oconnor', 'quinn', 'gross', 'navarro', 'moss', 'fitzgerald', 'doyle', 'mclaughlin', 'rojas', 'rodgers', 'stevenson', 'singh', 'yang', 'figueroa', 'harmon', 'newton', 'paul', 'manning', 'garner', 'mcgee', 'reese', 'francis', 'burgess', 'adkins', 'goodman', 'curry', 'brady', 'christensen', 'potter', 'walton', 'goodwin', 'mullins', 'molina', 'webster', 'fischer', 'campos', 'avila', 'sherman', 'todd', 'chang', 'blake', 'malone', 'wolf', 'hodges', 'juarez', 'gill', 'farmer', 'hines', 'gallagher', 'duran', 'hubbard', 'cannon', 'miranda', 'wang', 'saunders', 'tate', 'mack', 'hammond', 'carrillo', 'townsend', 'wise', 'ingram', 'barton', 'mejia', 'ayala', 'schroeder', 'hampton', 'rowe', 'parsons', 'frank', 'waters', 'strickland', 'osborne', 'maxwell', 'chan', 'deleon', 'norman', 'harrington', 'casey', 'patton', 'logan', 'bowers', 'mueller', 'glover', 'floyd', 'hartman', 'buchanan', 'cobb', 'french', 'kramer', 'mccormick', 'clarke', 'tyler', 'gibbs', 'moody', 'conner', 'sparks', 'mcguire', 'leon', 'bauer', 'norton', 'pope', 'flynn', 'hogan', 'robles', 'salinas', 'yates', 'lindsey', 'lloyd', 'marsh', 'mcbride', 'owen', 'solis', 'pham', 'lang', 'pratt', 'lara', 'brock', 'ballard', 'trujillo', 'shaffer', 'drake', 'roman', 'aguirre', 'morton', 'stokes', 'lamb', 'pacheco', 'patrick', 'cochran', 'shepherd', 'cain', 'burnett', 'hess', 'li', 'cervantes', 'olsen', 'briggs', 'ochoa', 'cabrera', 'velasquez', 'montoya', 'roth', 'meyers', 'cardenas', 'fuentes', 'weiss', 'hoover', 'wilkins', 'nicholson', 'underwood', 'short', 'carson', 'morrow', 'colon', 'holloway', 'summers', 'bryan', 'petersen', 'mckenzie', 'serrano', 'wilcox', 'carey', 'clayton', 'poole', 'calderon', 'gallegos', 'greer', 'rivas', 'guerra', 'decker', 'collier', 'wall', 'whitaker', 'bass', 'flowers', 'davenport', 'conley', 'houston', 'huff', 'copeland', 'hood', 'monroe', 'massey', 'roberson', 'combs', 'franco', 'larsen', 'pittman', 'randall', 'skinner', 'wilkinson', 'kirby', 'cameron', 'bridges', 'anthony', 'richard', 'kirk', 'bruce', 'singleton', 'mathis', 'bradford', 'boone', 'abbott', 'charles', 'allison', 'sweeney', 'atkinson', 'horn', 'jefferson', 'rosales', 'york', 'christian', 'phelps', 'farrell', 'castaneda', 'nash', 'dickerson', 'bond', 'wyatt', 'foley', 'chase', 'gates', 'vincent', 'mathews', 'hodge', 'garrison', 'trevino', 'villarreal', 'heath', 'dalton', 'valencia', 'callahan', 'hensley', 'atkins', 'huffman', 'roy', 'boyer', 'shields', 'lin', 'hancock', 'grimes', 'glenn', 'cline', 'delacruz', 'camacho', 'dillon', 'parrish', 'oneill', 'melton', 'booth', 'kane', 'berg', 'harrell', 'pitts', 'savage', 'wiggins', 'brennan', 'salas', 'marks', 'russo', 'sawyer', 'baxter', 'golden', 'hutchinson', 'liu', 'walter', 'mcdowell', 'wiley', 'rich', 'humphrey', 'johns', 'koch', 'suarez', 'hobbs', 'beard', 'gilmore', 'ibarra', 'keith', 'macias', 'khan', 'andrade', 'ware', 'stephenson', 'henson', 'wilkerson', 'dyer', 'mcclure', 'blackwell', 'mercado', 'tanner', 'eaton', 'clay', 'barron', 'beasley', 'oneal', 'preston', 'small', 'wu', 'zamora', 'macdonald', 'vance', 'snow', 'mcclain', 'stafford', 'orozco', 'barry', 'english', 'shannon', 'kline', 'jacobson', 'woodard', 'huang', 'kemp', 'mosley', 'prince', 'merritt', 'hurst', 'villanueva', 'roach', 'nolan', 'lam', 'yoder', 'mccullough', 'lester', 'santana', 'valenzuela', 'winters', 'barrera', 'leach', 'orr', 'berger', 'mckee', 'strong', 'conway', 'stein', 'whitehead', 'bullock', 'escobar', 'knox', 'meadows', 'solomon', 'velez', 'odonnell', 'kerr', 'stout', 'blankenship', 'browning', 'kent', 'lozano', 'bartlett', 'pruitt', 'buck', 'barr', 'gaines', 'durham', 'gentry', 'mcintyre', 'sloan', 'rocha', 'melendez', 'herman', 'sexton', 'moon', 'hendricks', 'rangel', 'stark', 'lowery', 'hardin', 'hull', 'sellers', 'ellison', 'calhoun', 'gillespie', 'mora', 'knapp', 'mccall', 'morse', 'dorsey', 'weeks', 'nielsen', 'livingston', 'leblanc', 'mclean', 'bradshaw', 'glass', 'middleton', 'buckley', 'schaefer', 'frost', 'howe', 'house', 'mcintosh', 'ho', 'pennington', 'reilly', 'hebert', 'mcfarland', 'hickman', 'noble', 'spears', 'conrad', 'arias', 'galvan', 'velazquez', 'huynh', 'frederick', 'randolph', 'cantu', 'fitzpatrick', 'mahoney', 'peck', 'villa', 'michael', 'donovan', 'mcconnell', 'walls', 'boyle', 'mayer', 'zuniga', 'giles', 'pineda', 'pace', 'hurley', 'mays', 'mcmillan', 'crosby', 'ayers', 'case', 'bentley', 'shepard', 'everett', 'pugh', 'david', 'mcmahon', 'dunlap', 'bender', 'hahn', 'harding', 'acevedo', 'raymond', 'blackburn', 'duffy', 'landry', 'dougherty', 'bautista', 'shah', 'potts', 'arroyo', 'valentine', 'meza', 'gould', 'vaughan', 'fry', 'rush', 'avery', 'herring', 'dodson', 'clements', 'sampson', 'tapia', 'bean', 'lynn', 'crane', 'farley', 'cisneros', 'benton', 'ashley', 'mckay', 'finley', 'best', 'blevins', 'friedman', 'moses', 'sosa', 'blanchard', 'huber', 'frye', 'krueger', 'bernard', 'rosario', 'rubio', 'mullen', 'benjamin', 'haley', 'chung', 'moyer', 'choi', 'horne', 'yu', 'woodward', 'ali', 'nixon', 'hayden', 'rivers', 'estes', 'mccarty', 'richmond', 'stuart', 'maynard', 'brandt', 'oconnell', 'hanna', 'sanford', 'sheppard', 'church', 'burch', 'levy', 'rasmussen', 'coffey', 'ponce', 'faulkner', 'donaldson', 'schmitt', 'novak', 'costa', 'montes', 'booker', 'cordova', 'waller', 'arellano', 'maddox', 'mata', 'bonilla', 'stanton', 'compton', 'kaufman', 'dudley', 'mcpherson', 'beltran', 'dickson', 'mccann', 'villegas', 'proctor', 'hester', 'cantrell', 'daugherty', 'cherry', 'bray', 'davila', 'rowland', 'levine', 'madden', 'spence', 'good', 'irwin', 'werner', 'krause', 'petty', 'whitney', 'baird', 'hooper', 'pollard', 'zavala', 'jarvis', 'holden', 'haas', 'hendrix', 'mcgrath', 'bird', 'lucero', 'terrell', 'riggs', 'joyce', 'mercer', 'rollins', 'galloway', 'duke', 'odom', 'andersen', 'downs', 'hatfield', 'benitez', 'archer', 'huerta', 'travis', 'mcneil', 'hinton', 'zhang', 'hays', 'mayo', 'fritz', 'branch', 'mooney', 'ewing', 'ritter', 'esparza', 'frey', 'braun', 'gay', 'riddle', 'haney', 'kaiser', 'holder', 'chaney', 'mcknight', 'gamble', 'vang', 'cooley', 'carney', 'cowan', 'forbes', 'ferrell', 'davies', 'barajas', 'shea', 'osborn', 'bright', 'cuevas', 'bolton', 'murillo', 'lutz', 'duarte', 'kidd', 'key', 'cooke']\n"
     ]
    }
   ],
   "source": [
    "\n",
    "# Assuming your CSV file has a column named 'custom_stop_words'\n",
    "# Adjust the file path and column name accordingly\n",
    "csv_file_path = '/Users/alexandratorti/DS PROJECT COURSE/names.csv'\n",
    "stop_words_df = pd.read_csv(csv_file_path)\n",
    "custom_stop_words = stop_words_df['name'].str.lower()\n",
    "custom_stop_words = custom_stop_words.tolist()\n",
    "print(custom_stop_words)"
   ]
  },
  {
   "cell_type": "code",
   "execution_count": 10,
   "metadata": {},
   "outputs": [],
   "source": [
    "from sklearn.feature_extraction.text import TfidfVectorizer \n",
    "\n",
    "# Vectorizing the pre-processed plot data using TF-IDF\n",
    "tfidfvec = TfidfVectorizer(stop_words=custom_stop_words) \n",
    "tfidf_plot = tfidfvec.fit_transform((finaldata[\"Processed_Plot\"])) \n",
    "  \n",
    "# Find cosine similarity \n",
    "from sklearn.metrics.pairwise import cosine_similarity \n",
    "cos_sim = cosine_similarity(tfidf_plot, tfidf_plot)\n",
    "\n",
    "# Storing the indices of the data \n",
    "indices = pd.Series(finaldata.index)"
   ]
  },
  {
   "cell_type": "code",
   "execution_count": 11,
   "metadata": {},
   "outputs": [
    {
     "name": "stdout",
     "output_type": "stream",
     "text": [
      "  (0, 16091)\t0.020103288939148603\n",
      "  (0, 38471)\t0.03222002866193387\n",
      "  (0, 51757)\t0.012138680965220253\n",
      "  (0, 10666)\t0.01827551236488691\n",
      "  (0, 10185)\t0.02905425900597582\n",
      "  (0, 8849)\t0.02440831756901945\n",
      "  (0, 10874)\t0.022571603636416845\n",
      "  (0, 9107)\t0.02618602815866422\n",
      "  (0, 47445)\t0.016101395460261486\n",
      "  (0, 33949)\t0.033179351765163526\n",
      "  (0, 39323)\t0.026087223457801324\n",
      "  (0, 15470)\t0.013964898622127896\n",
      "  (0, 38959)\t0.028499530071268583\n",
      "  (0, 16635)\t0.04478745959359881\n",
      "  (0, 29729)\t0.023791237467525508\n",
      "  (0, 15090)\t0.03433846111614174\n",
      "  (0, 23035)\t0.03502286649438319\n",
      "  (0, 37459)\t0.02995659273394642\n",
      "  (0, 17889)\t0.020972195502171147\n",
      "  (0, 890)\t0.01814415760173565\n",
      "  (0, 31675)\t0.02309062795637903\n",
      "  (0, 49279)\t0.017519534842877372\n",
      "  (0, 16880)\t0.026653658441078275\n",
      "  (0, 23478)\t0.026988698169094678\n",
      "  (0, 23031)\t0.028064323809533345\n",
      "  :\t:\n",
      "  (4487, 11830)\t0.014522957100982486\n",
      "  (4487, 890)\t0.043113567006940634\n",
      "  (4487, 45926)\t0.013186320341429749\n",
      "  (4487, 31119)\t0.01844660945837686\n",
      "  (4487, 18372)\t0.015488118945347188\n",
      "  (4487, 4553)\t0.029055628248486287\n",
      "  (4487, 28373)\t0.016658129230689867\n",
      "  (4487, 16082)\t0.025602593159307255\n",
      "  (4487, 23481)\t0.02203643329358385\n",
      "  (4487, 13753)\t0.04871813719465241\n",
      "  (4487, 9487)\t0.017015973047949443\n",
      "  (4487, 41314)\t0.04807802059280736\n",
      "  (4487, 50393)\t0.03382150493010051\n",
      "  (4487, 7508)\t0.02306131414438723\n",
      "  (4487, 32975)\t0.0199344397190674\n",
      "  (4487, 12797)\t0.027365929072480547\n",
      "  (4487, 21141)\t0.017144481664088388\n",
      "  (4487, 34303)\t0.02278564786846562\n",
      "  (4487, 42930)\t0.02716694619888907\n",
      "  (4487, 31333)\t0.01862442882186164\n",
      "  (4487, 26544)\t0.011136968595227274\n",
      "  (4487, 8509)\t0.01905246539456073\n",
      "  (4487, 30959)\t0.02842928945541015\n",
      "  (4487, 27149)\t0.025874091152825657\n",
      "  (4487, 46376)\t0.023017041014505614\n"
     ]
    }
   ],
   "source": [
    "print(tfidf_plot)\n",
    "#Each row in this matrix corresponds to a document (plot summary), \n",
    "# and each column corresponds to a unique word in the entire corpus"
   ]
  },
  {
   "cell_type": "markdown",
   "metadata": {},
   "source": [
    "The code emphasizes words that are both frequent in a document and unique across the corpus, aligning with TF-IDF principles.\n",
    "TF-IDF downplays common words that appear in many documents, enhancing the focus on distinctive terms and strengthen the analysis by quantifying word importance"
   ]
  },
  {
   "cell_type": "code",
   "execution_count": 12,
   "metadata": {},
   "outputs": [
    {
     "data": {
      "image/png": "[encoded data removed]",
      "text/plain": [
       "<Figure size 1000x600 with 1 Axes>"
      ]
     },
     "metadata": {},
     "output_type": "display_data"
    }
   ],
   "source": [
    "import matplotlib.pyplot as plt\n",
    "from wordcloud import WordCloud\n",
    "\n",
    "# Assuming tfidfvec is your TfidfVectorizer instance\n",
    "feature_names = tfidfvec.get_feature_names_out()\n",
    "\n",
    "# Bar Chart for Top N Features\n",
    "top_n = 10\n",
    "feature_importance = tfidf_plot.sum(axis=0).A1  # Sum TF-IDF scores across all documents\n",
    "top_indices = feature_importance.argsort()[-top_n:][::-1]\n",
    "top_features = [feature_names[idx] for idx in top_indices]\n",
    "\n",
    "plt.figure(figsize=(10, 6))\n",
    "plt.barh(top_features, feature_importance[top_indices], color='skyblue')\n",
    "plt.xlabel('TF-IDF Score')\n",
    "plt.title(f'Top {top_n} TF-IDF Features')\n",
    "plt.show()\n",
    "\n",
    "\n"
   ]
  },
  {
   "cell_type": "markdown",
   "metadata": {},
   "source": [
    "This is preparing a TF-IDF representation of the movie plot data and then computing the cosine similarity between movies based on their plot descriptions. The indices are stored for later reference. The resulting cos_sim matrix can be used to find similar movies based on their plot content"
   ]
  },
  {
   "cell_type": "code",
   "execution_count": 13,
   "metadata": {},
   "outputs": [],
   "source": [
    "def recommendations(title, cosine_sim=cos_sim):\n",
    "    recommended_movies = []\n",
    "    index = indices[indices == title].index[0]\n",
    "    similarity_scores = pd.Series(cosine_sim[index])\n",
    "    top_10 = list(np.argsort(similarity_scores)[::-1][1:11])\n",
    "    for i in top_10:\n",
    "        recommended_movies.append(list(finaldata.index)[i])\n",
    "    return recommended_movies"
   ]
  },
  {
   "cell_type": "code",
   "execution_count": null,
   "metadata": {},
   "outputs": [],
   "source": []
  },
  {
   "cell_type": "code",
   "execution_count": 14,
   "metadata": {},
   "outputs": [
    {
     "name": "stdout",
     "output_type": "stream",
     "text": [
      "Random Movie Name: Stronger\n"
     ]
    }
   ],
   "source": [
    "\n",
    "# Assuming 'finaldata' is your DataFrame\n",
    "random_movie = us_movies['Title'].sample().values[0]\n",
    "print(\"Random Movie Name:\", random_movie)"
   ]
  },
  {
   "cell_type": "code",
   "execution_count": 16,
   "metadata": {},
   "outputs": [
    {
     "data": {
      "text/plain": [
       "['Cars 3',\n",
       " 'Cars',\n",
       " 'The Mother of Tears',\n",
       " 'Great Expectations',\n",
       " \"Fool's Gold\",\n",
       " 'Death Race 3: Inferno',\n",
       " 'Snow White & the Huntsman',\n",
       " 'Baytown Outlaws, TheThe Baytown Outlaws',\n",
       " 'Popstar',\n",
       " 'Death Race']"
      ]
     },
     "execution_count": 16,
     "metadata": {},
     "output_type": "execute_result"
    }
   ],
   "source": [
    "recommendations('Cars 2')"
   ]
  },
  {
   "cell_type": "code",
   "execution_count": null,
   "metadata": {},
   "outputs": [
    {
     "data": {
      "image/png": "[encoded data removed]",
      "text/plain": [
       "<Figure size 1000x600 with 1 Axes>"
      ]
     },
     "metadata": {},
     "output_type": "display_data"
    }
   ],
   "source": [
    "def plot_tfidf(title, tfidf_vectorizer):\n",
    "    # Get the index of the movie\n",
    "    index = indices[indices == title].index[0]\n",
    "    \n",
    "    # Get the TF-IDF vector for the movie plot\n",
    "    tfidf_vector = tfidf_plot[index]\n",
    "\n",
    "    # Get feature names (words)\n",
    "    feature_names = np.array(tfidf_vectorizer.get_feature_names_out())\n",
    "\n",
    "    # Get corresponding TF-IDF values\n",
    "    tfidf_values = tfidf_vector.toarray()[0]\n",
    "\n",
    "    # Sort the features by TF-IDF value\n",
    "    sorted_indices = np.argsort(tfidf_values)[::-1]\n",
    "\n",
    "    # Plot the top N features\n",
    "    N = 10\n",
    "    plt.figure(figsize=(10, 6))\n",
    "    plt.bar(range(N), tfidf_values[sorted_indices][:N], align=\"center\", alpha=0.7)\n",
    "    plt.xticks(range(N), feature_names[sorted_indices][:N], rotation=45, ha=\"right\")\n",
    "    plt.xlabel(\"Words\")\n",
    "    plt.ylabel(\"TF-IDF Value\")\n",
    "    plt.title(f\"TF-IDF Values for Movie: {title}\")\n",
    "    plt.show()\n",
    "\n",
    "# Assuming tfidfvec is your TfidfVectorizer\n",
    "plot_tfidf('Cars 2', tfidfvec)"
   ]
  }
 ],
 "metadata": {
  "kernelspec": {
   "display_name": "base",
   "language": "python",
   "name": "python3"
  },
  "language_info": {
   "codemirror_mode": {
    "name": "ipython",
    "version": 3
   },
   "file_extension": ".py",
   "mimetype": "text/x-python",
   "name": "python",
   "nbconvert_exporter": "python",
   "pygments_lexer": "ipython3",
   "version": "3.11.4"
  }
 },
 "nbformat": 4,
 "nbformat_minor": 2
}
